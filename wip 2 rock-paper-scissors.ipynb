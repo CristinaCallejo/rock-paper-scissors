{
 "cells": [
  {
   "cell_type": "code",
   "execution_count": 4,
   "id": "liquid-nigeria",
   "metadata": {},
   "outputs": [],
   "source": [
    "import random"
   ]
  },
  {
   "cell_type": "code",
   "execution_count": 5,
   "id": "curious-citizen",
   "metadata": {},
   "outputs": [],
   "source": [
    "# variables \n",
    "\n",
    "gestures = [\"rock\", \"paper\", \"scissors\"]\n",
    "n_rounds = 3\n",
    "rounds_to_win = n_rounds - 1\n",
    "cpu_score = 0\n",
    "player_score = 0 "
   ]
  },
  {
   "cell_type": "code",
   "execution_count": null,
   "id": "measured-necessity",
   "metadata": {},
   "outputs": [],
   "source": []
  },
  {
   "cell_type": "code",
   "execution_count": null,
   "id": "every-organizer",
   "metadata": {},
   "outputs": [],
   "source": [
    "def gesture (gestures):\n",
    "    gesture_option = [random.choice(gestures) for gest in gestures]\n",
    "    print(gesture_option)\n",
    "    return gesture_option"
   ]
  },
  {
   "cell_type": "code",
   "execution_count": null,
   "id": "outer-florist",
   "metadata": {},
   "outputs": [],
   "source": []
  },
  {
   "cell_type": "code",
   "execution_count": 9,
   "id": "southwest-isaac",
   "metadata": {},
   "outputs": [],
   "source": [
    "def round_winner_check(cpu_gesture,player_gesture):\n",
    "    round_winner = 0\n",
    "    round_vs = ()\n",
    "    cpu_choice = (\"\")\n",
    "    player_choice == player_gesture(gestures)\n",
    "    round_vs = (cpu_choice,player_choice)\n",
    "    print(round_vs)\n",
    "    for elem in round_vs:\n",
    "        if round_vs == (\"rock\", \"paper\") or (\"paper\", \"scissors\") or (\"scissors\", \"rock\"):\n",
    "            round_winner == 2\n",
    "        elif round_vs == (\"rock\", \"rock\") or (\"paper\",\"paper\") or (\"scissors\", \"scissors\"):\n",
    "            round_winner == 0\n",
    "        else:\n",
    "            round_winner == 1\n",
    "    return round_winner"
   ]
  },
  {
   "cell_type": "code",
   "execution_count": null,
   "id": "collected-malta",
   "metadata": {},
   "outputs": [],
   "source": []
  },
  {
   "cell_type": "code",
   "execution_count": 10,
   "id": "advised-dealer",
   "metadata": {},
   "outputs": [],
   "source": [
    "def round_winner_check2(cpu_gesture,player_gesture):\n",
    "    round_winner = 0\n",
    "    round_vs = ()\n",
    "    cpu_choice == \"cpu_gesturze(gestures)\"\n",
    "    player_choice == player_gesture(gestures)\n",
    "    round_vs == (cpu_choice,player_choice)\n",
    "    print(round_vs)\n",
    "    for elem in round_vs:\n",
    "        if round_vs == (\"rock\", \"paper\") or (\"paper\", \"scissors\") or (\"scissors\", \"rock\"):\n",
    "            round_winner == 2\n",
    "        elif round_vs == (\"rock\", \"rock\") or (\"paper\",\"paper\") or (\"scissors\", \"scissors\"):\n",
    "            round_winner == 0\n",
    "        else:\n",
    "            round_winner == 1\n",
    "    return round_winner"
   ]
  },
  {
   "cell_type": "code",
   "execution_count": null,
   "id": "promising-outline",
   "metadata": {},
   "outputs": [],
   "source": []
  }
 ],
 "metadata": {
  "kernelspec": {
   "display_name": "Python 3",
   "language": "python",
   "name": "python3"
  },
  "language_info": {
   "codemirror_mode": {
    "name": "ipython",
    "version": 3
   },
   "file_extension": ".py",
   "mimetype": "text/x-python",
   "name": "python",
   "nbconvert_exporter": "python",
   "pygments_lexer": "ipython3",
   "version": "3.8.5"
  },
  "toc": {
   "base_numbering": 1,
   "nav_menu": {},
   "number_sections": true,
   "sideBar": true,
   "skip_h1_title": false,
   "title_cell": "Table of Contents",
   "title_sidebar": "Contents",
   "toc_cell": false,
   "toc_position": {},
   "toc_section_display": true,
   "toc_window_display": false
  },
  "varInspector": {
   "cols": {
    "lenName": 16,
    "lenType": 16,
    "lenVar": 40
   },
   "kernels_config": {
    "python": {
     "delete_cmd_postfix": "",
     "delete_cmd_prefix": "del ",
     "library": "var_list.py",
     "varRefreshCmd": "print(var_dic_list())"
    },
    "r": {
     "delete_cmd_postfix": ") ",
     "delete_cmd_prefix": "rm(",
     "library": "var_list.r",
     "varRefreshCmd": "cat(var_dic_list()) "
    }
   },
   "types_to_exclude": [
    "module",
    "function",
    "builtin_function_or_method",
    "instance",
    "_Feature"
   ],
   "window_display": false
  }
 },
 "nbformat": 4,
 "nbformat_minor": 5
}
