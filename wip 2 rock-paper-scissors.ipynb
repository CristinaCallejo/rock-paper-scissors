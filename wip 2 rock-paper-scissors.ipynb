{
 "cells": [
  {
   "cell_type": "code",
   "execution_count": 1,
   "id": "comic-arnold",
   "metadata": {},
   "outputs": [],
   "source": [
    "import random"
   ]
  },
  {
   "cell_type": "code",
   "execution_count": 2,
   "id": "meaningful-corps",
   "metadata": {},
   "outputs": [],
   "source": [
    "# variables \n",
    "\n",
    "options = [\"rock\", \"paper\", \"scissors\"]\n",
    "n_rounds = 3\n",
    "rounds_to_win = n_rounds - 1\n",
    "cpu_score = 0\n",
    "player_score = 0 "
   ]
  },
  {
   "cell_type": "code",
   "execution_count": null,
   "id": "lined-bracelet",
   "metadata": {},
   "outputs": [],
   "source": []
  },
  {
   "cell_type": "markdown",
   "id": "interstate-angel",
   "metadata": {},
   "source": [
    "## WORKS !! "
   ]
  },
  {
   "cell_type": "code",
   "execution_count": 3,
   "id": "sound-thinking",
   "metadata": {},
   "outputs": [
    {
     "ename": "SyntaxError",
     "evalue": "EOF while scanning triple-quoted string literal (<ipython-input-3-bafa4ad955ec>, line 17)",
     "output_type": "error",
     "traceback": [
      "\u001b[0;36m  File \u001b[0;32m\"<ipython-input-3-bafa4ad955ec>\"\u001b[0;36m, line \u001b[0;32m17\u001b[0m\n\u001b[0;31m    '''\u001b[0m\n\u001b[0m       \n^\u001b[0m\n\u001b[0;31mSyntaxError\u001b[0m\u001b[0;31m:\u001b[0m EOF while scanning triple-quoted string literal\n"
     ]
    }
   ],
   "source": [
    "\"\"\"\n",
    "def player_gesture(options):\n",
    "    ask = str(input(\"What's you're move: rock, paper or scissors? Your choice: \"))\n",
    "    print(ask)\n",
    "    print(ask.lower())\n",
    "    if ask.lower() in options:\n",
    "        print(ask.lower())\n",
    "        choice = ask.lower()\n",
    "        print(choice)\n",
    "        print(\"your choice is: \", choice)\n",
    "        return choice\n",
    "        \n",
    "    else:\n",
    "        print(\"the truth printed was this: \",ask.lower() not in options)\n",
    "        print (\"That's not an option, try again!\")\n",
    "        return player_gesture(options)\n",
    "'''"
   ]
  },
  {
   "cell_type": "markdown",
   "id": "leading-particle",
   "metadata": {},
   "source": [
    "# WORKS"
   ]
  },
  {
   "cell_type": "code",
   "execution_count": 35,
   "id": "medium-violence",
   "metadata": {},
   "outputs": [],
   "source": [
    "def round_winner_check(cpu_gesture,player_gesture1):\n",
    "    round_winner = 0\n",
    "    round_vs = ()\n",
    "    cpu_choice = cpu_gesture(options)\n",
    "    choice = puu`+\n",
    "    layer_gesture1(options)\n",
    "    round_vs = (cpu_choice,choice)\n",
    "    print(\"the round is\",cpu_choice, choice)\n",
    "    print(round_vs)\n",
    "    if round_vs == (\"rock\", \"paper\") or (\"paper\", \"scissors\") or (\"scissors\", \"rock\"):\n",
    "        round_winner == 2\n",
    "    elif round_vs == (\"paper\", \"rock\") or (\"scissors\",\"paper\") or (\"rock\", \"scissors\"):\n",
    "        round_winner == 1\n",
    "    else:\n",
    "        round_winner == 0\n",
    "    return round_winner\n",
    "\n",
    "def player_gesture1(options):\n",
    "    ask = str(input(\"What's you're move: rock, paper or scissors? Your choice: \"))\n",
    "    ask = ask.lower()\n",
    "    if ask in options:\n",
    "        choice = ask\n",
    "        return choice\n",
    "    else:\n",
    "        print (\"That's not an option, try again!\")\n",
    "        return player_gesture1(options)\n",
    "    \n",
    "\n",
    "def cpu_gesture (options):\n",
    "    cpu_choice = str(random.choice(options))\n",
    "    return cpu_choice"
   ]
  },
  {
   "cell_type": "code",
   "execution_count": 37,
   "id": "collective-cement",
   "metadata": {},
   "outputs": [
    {
     "name": "stdout",
     "output_type": "stream",
     "text": [
      "What's you're move: rock, paper or scissors? Your choice: rOck\n",
      "the round is paper rock\n",
      "('paper', 'rock')\n"
     ]
    },
    {
     "data": {
      "text/plain": [
       "0"
      ]
     },
     "execution_count": 37,
     "metadata": {},
     "output_type": "execute_result"
    }
   ],
   "source": [
    "round_winner_check(cpu_gesture,player_gesture1)"
   ]
  },
  {
   "cell_type": "code",
   "execution_count": 22,
   "id": "approximate-jaguar",
   "metadata": {
    "scrolled": true
   },
   "outputs": [
    {
     "name": "stdout",
     "output_type": "stream",
     "text": [
      "What's you're move: rock, paper or scissors? Your choice: rock\n"
     ]
    },
    {
     "data": {
      "text/plain": [
       "'rock'"
      ]
     },
     "execution_count": 22,
     "metadata": {},
     "output_type": "execute_result"
    }
   ],
   "source": [
    "player_gesture1(options)"
   ]
  },
  {
   "cell_type": "code",
   "execution_count": 23,
   "id": "knowing-theater",
   "metadata": {},
   "outputs": [
    {
     "data": {
      "text/plain": [
       "'paper'"
      ]
     },
     "execution_count": 23,
     "metadata": {},
     "output_type": "execute_result"
    }
   ],
   "source": [
    "cpu_gesture(options)"
   ]
  },
  {
   "cell_type": "code",
   "execution_count": 64,
   "id": "wooden-state",
   "metadata": {},
   "outputs": [
    {
     "name": "stdout",
     "output_type": "stream",
     "text": [
      "<function cpu_gesture at 0x7f91d027a0d0>\n",
      "<function player_gesture at 0x7f91d024ff70>\n",
      "<generator object <genexpr> at 0x7f91d02837b0>\n",
      "player wins\n"
     ]
    }
   ],
   "source": [
    "'''\n",
    "tup = (cpu_gesture,player_gesture)\n",
    "if tup == (\"rock\", \"paper\") or (\"paper\", \"scissors\") or (\"scissors\", \"rock\"):\n",
    "    print(\"player wins\")\n",
    "elif tup == (\"rock\", \"rock\") or (\"paper\",\"paper\") or (\"scissors\", \"scissors\"):\n",
    "    print(\"Tie\")\n",
    "else: \n",
    "    print(\"cpu wins\")\n",
    "'''"
   ]
  },
  {
   "cell_type": "code",
   "execution_count": 66,
   "id": "atmospheric-senator",
   "metadata": {},
   "outputs": [],
   "source": [
    "def round_winner_check(cpu_gesture,player_gesture):\n",
    "    round_winner = 0\n",
    "    round_vs = ()\n",
    "    cpu_choice = (\"\")\n",
    "    player_choice == player_gesture(options)\n",
    "    round_vs = (cpu_choice,player_choice)\n",
    "    print(round_vs)\n",
    "    for elem in round_vs:\n",
    "        if round_vs == (\"rock\", \"paper\") or (\"paper\", \"scissors\") or (\"scissors\", \"rock\"):\n",
    "            round_winner == 2\n",
    "        elif round_vs == (\"rock\", \"rock\") or (\"paper\",\"paper\") or (\"scissors\", \"scissors\"):\n",
    "            round_winner == 0\n",
    "        else:\n",
    "            round_winner == 1\n",
    "    return round_winner"
   ]
  },
  {
   "cell_type": "code",
   "execution_count": 68,
   "id": "continued-underground",
   "metadata": {},
   "outputs": [
    {
     "ename": "NameError",
     "evalue": "name 'player_choice' is not defined",
     "output_type": "error",
     "traceback": [
      "\u001b[0;31m---------------------------------------------------------------------------\u001b[0m",
      "\u001b[0;31mNameError\u001b[0m                                 Traceback (most recent call last)",
      "\u001b[0;32m<ipython-input-68-704200a774ca>\u001b[0m in \u001b[0;36m<module>\u001b[0;34m\u001b[0m\n\u001b[0;32m----> 1\u001b[0;31m \u001b[0mround_winner_check\u001b[0m\u001b[0;34m(\u001b[0m\u001b[0mcpu_gesture\u001b[0m\u001b[0;34m,\u001b[0m\u001b[0mplayer_gesture\u001b[0m\u001b[0;34m)\u001b[0m\u001b[0;34m\u001b[0m\u001b[0;34m\u001b[0m\u001b[0m\n\u001b[0m",
      "\u001b[0;32m<ipython-input-66-518303bc35c1>\u001b[0m in \u001b[0;36mround_winner_check\u001b[0;34m(cpu_gesture, player_gesture)\u001b[0m\n\u001b[1;32m      3\u001b[0m     \u001b[0mround_vs\u001b[0m \u001b[0;34m=\u001b[0m \u001b[0;34m(\u001b[0m\u001b[0;34m)\u001b[0m\u001b[0;34m\u001b[0m\u001b[0;34m\u001b[0m\u001b[0m\n\u001b[1;32m      4\u001b[0m     \u001b[0mcpu_choice\u001b[0m \u001b[0;34m=\u001b[0m \u001b[0;34m(\u001b[0m\u001b[0;34m\"\"\u001b[0m\u001b[0;34m)\u001b[0m\u001b[0;34m\u001b[0m\u001b[0;34m\u001b[0m\u001b[0m\n\u001b[0;32m----> 5\u001b[0;31m     \u001b[0mplayer_choice\u001b[0m \u001b[0;34m==\u001b[0m \u001b[0mplayer_gesture\u001b[0m\u001b[0;34m(\u001b[0m\u001b[0moptions\u001b[0m\u001b[0;34m)\u001b[0m\u001b[0;34m\u001b[0m\u001b[0;34m\u001b[0m\u001b[0m\n\u001b[0m\u001b[1;32m      6\u001b[0m     \u001b[0mround_vs\u001b[0m \u001b[0;34m=\u001b[0m \u001b[0;34m(\u001b[0m\u001b[0mcpu_choice\u001b[0m\u001b[0;34m,\u001b[0m\u001b[0mplayer_choice\u001b[0m\u001b[0;34m)\u001b[0m\u001b[0;34m\u001b[0m\u001b[0;34m\u001b[0m\u001b[0m\n\u001b[1;32m      7\u001b[0m     \u001b[0mprint\u001b[0m\u001b[0;34m(\u001b[0m\u001b[0mround_vs\u001b[0m\u001b[0;34m)\u001b[0m\u001b[0;34m\u001b[0m\u001b[0;34m\u001b[0m\u001b[0m\n",
      "\u001b[0;31mNameError\u001b[0m: name 'player_choice' is not defined"
     ]
    }
   ],
   "source": [
    "round_winner_check(cpu_gesture,player_gesture)"
   ]
  },
  {
   "cell_type": "code",
   "execution_count": null,
   "id": "special-addiction",
   "metadata": {},
   "outputs": [],
   "source": [
    "def round_winner_check2(gesture_option,player_gesture):\n",
    "    round_winner = 0\n",
    "    round_vs = ()\n",
    "    cpu_choice == \"cpu_gesturze(gestures)\"\n",
    "    player_choice == player_gesture(gestures)\n",
    "    round_vs == (cpu_choice,player_choice)\n",
    "    print(round_vs)\n",
    "    for elem in round_vs:\n",
    "        if round_vs == (\"rock\", \"paper\") or (\"paper\", \"scissors\") or (\"scissors\", \"rock\"):\n",
    "            round_winner == 2\n",
    "        elif round_vs == (\"rock\", \"rock\") or (\"paper\",\"paper\") or (\"scissors\", \"scissors\"):\n",
    "            round_winner == 0\n",
    "        else:\n",
    "            round_winner == 1\n",
    "    return round_winner"
   ]
  },
  {
   "cell_type": "code",
   "execution_count": null,
   "id": "cathedral-arthritis",
   "metadata": {},
   "outputs": [],
   "source": []
  },
  {
   "cell_type": "code",
   "execution_count": null,
   "id": "dirty-remains",
   "metadata": {},
   "outputs": [],
   "source": [
    "round_winner_check(cpu_gesture,player_gesture)"
   ]
  },
  {
   "cell_type": "code",
   "execution_count": null,
   "id": "raising-oxide",
   "metadata": {},
   "outputs": [],
   "source": []
  },
  {
   "cell_type": "code",
   "execution_count": null,
   "id": "varying-xerox",
   "metadata": {},
   "outputs": [],
   "source": []
  }
 ],
 "metadata": {
  "kernelspec": {
   "display_name": "Python 3",
   "language": "python",
   "name": "python3"
  },
  "language_info": {
   "codemirror_mode": {
    "name": "ipython",
    "version": 3
   },
   "file_extension": ".py",
   "mimetype": "text/x-python",
   "name": "python",
   "nbconvert_exporter": "python",
   "pygments_lexer": "ipython3",
   "version": "3.8.5"
  },
  "toc": {
   "base_numbering": 1,
   "nav_menu": {},
   "number_sections": false,
   "sideBar": true,
   "skip_h1_title": false,
   "title_cell": "Table of Contents",
   "title_sidebar": "Contents",
   "toc_cell": false,
   "toc_position": {
    "height": "calc(100% - 180px)",
    "left": "10px",
    "top": "150px",
    "width": "251.729px"
   },
   "toc_section_display": true,
   "toc_window_display": true
  },
  "varInspector": {
   "cols": {
    "lenName": 16,
    "lenType": 16,
    "lenVar": 40
   },
   "kernels_config": {
    "python": {
     "delete_cmd_postfix": "",
     "delete_cmd_prefix": "del ",
     "library": "var_list.py",
     "varRefreshCmd": "print(var_dic_list())"
    },
    "r": {
     "delete_cmd_postfix": ") ",
     "delete_cmd_prefix": "rm(",
     "library": "var_list.r",
     "varRefreshCmd": "cat(var_dic_list()) "
    }
   },
   "types_to_exclude": [
    "module",
    "function",
    "builtin_function_or_method",
    "instance",
    "_Feature"
   ],
   "window_display": false
  }
 },
 "nbformat": 4,
 "nbformat_minor": 5
}
