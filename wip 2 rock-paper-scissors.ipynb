{
 "cells": [
  {
   "cell_type": "code",
   "execution_count": 38,
   "id": "comic-arnold",
   "metadata": {},
   "outputs": [],
   "source": [
    "import random"
   ]
  },
  {
   "cell_type": "code",
   "execution_count": 39,
   "id": "meaningful-corps",
   "metadata": {},
   "outputs": [],
   "source": [
    "# variables \n",
    "\n",
    "options = [\"rock\", \"paper\", \"scissors\"]\n",
    "n_rounds = 3\n",
    "rounds_to_win = n_rounds - 1\n",
    "choice = \"\"\n",
    "cpu_score = 0\n",
    "player_score = 0 "
   ]
  },
  {
   "cell_type": "code",
   "execution_count": null,
   "id": "lined-bracelet",
   "metadata": {},
   "outputs": [],
   "source": []
  },
  {
   "cell_type": "markdown",
   "id": "quantitative-average",
   "metadata": {},
   "source": [
    "## WORKS !! "
   ]
  },
  {
   "cell_type": "code",
   "execution_count": 40,
   "id": "sound-thinking",
   "metadata": {},
   "outputs": [],
   "source": [
    "def player_gesture(options):\n",
    "    ask = str(input(\"What's you're move: rock, paper or scissors? Your choice: \"))\n",
    "    print(ask)\n",
    "    print(ask.lower())\n",
    "    if ask.lower() in options:\n",
    "        print(ask.lower())\n",
    "        choice = ask.lower()\n",
    "        print(choice)\n",
    "        print(\"your choice is: \", choice)\n",
    "        return choice\n",
    "        \n",
    "    else:\n",
    "        print(\"the truth printed was this: \",ask.lower() not in options)\n",
    "        print (\"That's not an option, try again!\")\n",
    "        return player_gesture(options)"
   ]
  },
  {
   "cell_type": "code",
   "execution_count": 47,
   "id": "instrumental-heart",
   "metadata": {},
   "outputs": [],
   "source": [
    "def cpu_gesture (options):\n",
    "    cpu_choice = str(random.choice(options))\n",
    "    return cpu_choice"
   ]
  },
  {
   "cell_type": "code",
   "execution_count": 48,
   "id": "approximate-jaguar",
   "metadata": {},
   "outputs": [
    {
     "name": "stdout",
     "output_type": "stream",
     "text": [
      "What's you're move: rock, paper or scissors? Your choice: rock\n",
      "rock\n",
      "rock\n",
      "rock\n",
      "rock\n",
      "your choice is:  rock\n"
     ]
    },
    {
     "data": {
      "text/plain": [
       "'rock'"
      ]
     },
     "execution_count": 48,
     "metadata": {},
     "output_type": "execute_result"
    }
   ],
   "source": [
    "player_gesture(options)"
   ]
  },
  {
   "cell_type": "code",
   "execution_count": 49,
   "id": "consolidated-looking",
   "metadata": {},
   "outputs": [
    {
     "data": {
      "text/plain": [
       "'rock'"
      ]
     },
     "execution_count": 49,
     "metadata": {},
     "output_type": "execute_result"
    }
   ],
   "source": [
    "cpu_gesture(options)"
   ]
  },
  {
   "cell_type": "code",
   "execution_count": 64,
   "id": "fiscal-spencer",
   "metadata": {},
   "outputs": [
    {
     "name": "stdout",
     "output_type": "stream",
     "text": [
      "<function cpu_gesture at 0x7f91d027a0d0>\n",
      "<function player_gesture at 0x7f91d024ff70>\n",
      "<generator object <genexpr> at 0x7f91d02837b0>\n",
      "player wins\n"
     ]
    }
   ],
   "source": [
    "tup = (cpu_gesture,player_gesture)\n",
    "if tup == (\"rock\", \"paper\") or (\"paper\", \"scissors\") or (\"scissors\", \"rock\"):\n",
    "    print(\"player wins\")\n",
    "elif tup == (\"rock\", \"rock\") or (\"paper\",\"paper\") or (\"scissors\", \"scissors\"):\n",
    "    print(\"Tie\")\n",
    "else: \n",
    "    print(\"cpu wins\")"
   ]
  },
  {
   "cell_type": "code",
   "execution_count": null,
   "id": "atmospheric-senator",
   "metadata": {},
   "outputs": [],
   "source": [
    "def round_winner_check(cpu_gesture_option,player_gesture):\n",
    "    round_winner = 0\n",
    "    round_vs = ()\n",
    "    cpu_choice = (\"\")\n",
    "    player_choice == player_gesture(options)\n",
    "    round_vs = (cpu_choice,player_choice)\n",
    "    print(round_vs)\n",
    "    for elem in round_vs:\n",
    "        if round_vs == (\"rock\", \"paper\") or (\"paper\", \"scissors\") or (\"scissors\", \"rock\"):\n",
    "            round_winner == 2\n",
    "        elif round_vs == (\"rock\", \"rock\") or (\"paper\",\"paper\") or (\"scissors\", \"scissors\"):\n",
    "            round_winner == 0\n",
    "        else:\n",
    "            round_winner == 1\n",
    "    return round_winner"
   ]
  },
  {
   "cell_type": "code",
   "execution_count": null,
   "id": "continued-underground",
   "metadata": {},
   "outputs": [],
   "source": []
  },
  {
   "cell_type": "code",
   "execution_count": null,
   "id": "special-addiction",
   "metadata": {},
   "outputs": [],
   "source": [
    "def round_winner_check2(gesture_option,player_gesture):\n",
    "    round_winner = 0\n",
    "    round_vs = ()\n",
    "    cpu_choice == \"cpu_gesturze(gestures)\"\n",
    "    player_choice == player_gesture(gestures)\n",
    "    round_vs == (cpu_choice,player_choice)\n",
    "    print(round_vs)\n",
    "    for elem in round_vs:\n",
    "        if round_vs == (\"rock\", \"paper\") or (\"paper\", \"scissors\") or (\"scissors\", \"rock\"):\n",
    "            round_winner == 2\n",
    "        elif round_vs == (\"rock\", \"rock\") or (\"paper\",\"paper\") or (\"scissors\", \"scissors\"):\n",
    "            round_winner == 0\n",
    "        else:\n",
    "            round_winner == 1\n",
    "    return round_winner"
   ]
  },
  {
   "cell_type": "code",
   "execution_count": null,
   "id": "cathedral-arthritis",
   "metadata": {},
   "outputs": [],
   "source": []
  },
  {
   "cell_type": "code",
   "execution_count": null,
   "id": "dirty-remains",
   "metadata": {},
   "outputs": [],
   "source": [
    "round_winner_check(cpu_gesture,player_gesture)"
   ]
  },
  {
   "cell_type": "code",
   "execution_count": null,
   "id": "raising-oxide",
   "metadata": {},
   "outputs": [],
   "source": []
  },
  {
   "cell_type": "code",
   "execution_count": null,
   "id": "varying-xerox",
   "metadata": {},
   "outputs": [],
   "source": []
  }
 ],
 "metadata": {
  "kernelspec": {
   "display_name": "Python 3",
   "language": "python",
   "name": "python3"
  },
  "language_info": {
   "codemirror_mode": {
    "name": "ipython",
    "version": 3
   },
   "file_extension": ".py",
   "mimetype": "text/x-python",
   "name": "python",
   "nbconvert_exporter": "python",
   "pygments_lexer": "ipython3",
   "version": "3.8.5"
  },
  "toc": {
   "base_numbering": 1,
   "nav_menu": {},
   "number_sections": false,
   "sideBar": true,
   "skip_h1_title": false,
   "title_cell": "Table of Contents",
   "title_sidebar": "Contents",
   "toc_cell": false,
   "toc_position": {
    "height": "calc(100% - 180px)",
    "left": "10px",
    "top": "150px",
    "width": "251.729px"
   },
   "toc_section_display": true,
   "toc_window_display": true
  },
  "varInspector": {
   "cols": {
    "lenName": 16,
    "lenType": 16,
    "lenVar": 40
   },
   "kernels_config": {
    "python": {
     "delete_cmd_postfix": "",
     "delete_cmd_prefix": "del ",
     "library": "var_list.py",
     "varRefreshCmd": "print(var_dic_list())"
    },
    "r": {
     "delete_cmd_postfix": ") ",
     "delete_cmd_prefix": "rm(",
     "library": "var_list.r",
     "varRefreshCmd": "cat(var_dic_list()) "
    }
   },
   "types_to_exclude": [
    "module",
    "function",
    "builtin_function_or_method",
    "instance",
    "_Feature"
   ],
   "window_display": false
  }
 },
 "nbformat": 4,
 "nbformat_minor": 5
}
