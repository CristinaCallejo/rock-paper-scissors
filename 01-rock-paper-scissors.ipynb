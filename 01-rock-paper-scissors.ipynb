{
 "cells": [
  {
   "cell_type": "markdown",
   "metadata": {},
   "source": [
    "<img src=\"https://bit.ly/2VnXWr2\" width=\"100\" align=\"left\">"
   ]
  },
  {
   "cell_type": "markdown",
   "metadata": {},
   "source": [
    "# Rock, Paper & Scissors\n",
    "\n",
    "Let's play the famous game against our computer. You can check the rules [here](https://en.wikipedia.org/wiki/Rock%E2%80%93paper%E2%80%93scissors). \n",
    "\n",
    "## Task\n",
    "Create a program that imitates the playability of the well known game of rock, paper, scissors. Follow the guidelines provided.\n",
    "\n",
    "## Tools\n",
    "1. Loop: **for/while**\n",
    "2. Functions: **input(), print()...**\n",
    "3. Conditional statements: **if, elif, else**\n",
    "4. Definition of functions. Modular programming\n",
    "5. Import modules\n",
    "\n",
    "**To solve this challenge, the use of functions is recommended.**\n",
    "\n",
    "#### 1. Import the choice function of the random module."
   ]
  },
  {
   "cell_type": "code",
   "execution_count": 1,
   "metadata": {},
   "outputs": [],
   "source": [
    "import random\n",
    "import math"
   ]
  },
  {
   "cell_type": "markdown",
   "metadata": {},
   "source": [
    "#### 2. Create a list that includes the 3 possible gesture options of the game: 'rock', 'paper' or 'scissors'. Store the list in a variable called `gestures`."
   ]
  },
  {
   "cell_type": "code",
   "execution_count": 2,
   "metadata": {},
   "outputs": [],
   "source": [
    "gestures = [\"rock\", \"paper\", \"scissors\"]"
   ]
  },
  {
   "cell_type": "markdown",
   "metadata": {},
   "source": [
    "#### 3. Create a variable called n_rounds to store the maximum number of rounds to play in a game\n"
   ]
  },
  {
   "cell_type": "code",
   "execution_count": 3,
   "metadata": {},
   "outputs": [],
   "source": [
    "n_rounds = 9"
   ]
  },
  {
   "cell_type": "markdown",
   "metadata": {},
   "source": [
    "#### 4. Create a variable called `rounds_to_win` to store the number of rounds that a player must win to win the game.\n",
    "**Hint**: the value stored in `rounds_to_win` depends on the value of `n_rounds`. "
   ]
  },
  {
   "cell_type": "code",
   "execution_count": 4,
   "metadata": {},
   "outputs": [
    {
     "data": {
      "text/plain": [
       "5"
      ]
     },
     "execution_count": 4,
     "metadata": {},
     "output_type": "execute_result"
    }
   ],
   "source": [
    "rounds_to_win = math.ceil(n_rounds/2 )\n",
    "rounds_to_win"
   ]
  },
  {
   "cell_type": "markdown",
   "metadata": {},
   "source": [
    "#### 5. Create two variables to store the number of rounds that the computer and the player have won. Call these variables `cpu_score` and `player_score`."
   ]
  },
  {
   "cell_type": "code",
   "execution_count": 5,
   "metadata": {},
   "outputs": [],
   "source": [
    "cpu_score = 0\n",
    "player_score = 0 "
   ]
  },
  {
   "cell_type": "markdown",
   "metadata": {},
   "source": [
    "#### 6. Define a function that randomly returns one of the 3 gesture options.\n",
    "You will use this function to simulate the gesture choice of the computer. "
   ]
  },
  {
   "cell_type": "code",
   "execution_count": 6,
   "metadata": {},
   "outputs": [],
   "source": [
    "def cpu_gesture (gestures):\n",
    "    cpu_choice = str(random.choice(gestures))\n",
    "    return cpu_choice"
   ]
  },
  {
   "cell_type": "code",
   "execution_count": 7,
   "metadata": {},
   "outputs": [
    {
     "data": {
      "text/plain": [
       "'rock'"
      ]
     },
     "execution_count": 7,
     "metadata": {},
     "output_type": "execute_result"
    }
   ],
   "source": [
    "cpu_gesture (gestures)"
   ]
  },
  {
   "cell_type": "markdown",
   "metadata": {},
   "source": [
    "#### 7. Define a function that asks the player which is the gesture he or she wants to show: 'rock', 'paper' or 'scissors'.\n",
    "The player should only be allowed to choose one of the 3 gesture options. If the player's choice is not rock, paper or scissors, keep asking until it is."
   ]
  },
  {
   "cell_type": "code",
   "execution_count": 8,
   "metadata": {},
   "outputs": [],
   "source": [
    "def player_gesture(gesture):\n",
    "    ask = str(input(\"What's you're move: rock, paper or scissors? Your choice: \"))\n",
    "    ask = ask.lower()\n",
    "    if ask in gestures:\n",
    "        choice = ask\n",
    "        return choice\n",
    "    else:\n",
    "        print (\"That's not an option, try again!\")\n",
    "        return player_gesture(gesture)"
   ]
  },
  {
   "cell_type": "code",
   "execution_count": 9,
   "metadata": {},
   "outputs": [
    {
     "name": "stdout",
     "output_type": "stream",
     "text": [
      "What's you're move: rock, paper or scissors? Your choice: rock\n"
     ]
    },
    {
     "data": {
      "text/plain": [
       "'rock'"
      ]
     },
     "execution_count": 9,
     "metadata": {},
     "output_type": "execute_result"
    }
   ],
   "source": [
    "player_gesture(gestures)"
   ]
  },
  {
   "cell_type": "markdown",
   "metadata": {},
   "source": [
    "#### 8. Define a function that checks who won a round. \n",
    "The function should return 0 if there is a tie, 1 if the computer wins and 2 if the player wins."
   ]
  },
  {
   "cell_type": "code",
   "execution_count": null,
   "metadata": {},
   "outputs": [],
   "source": []
  },
  {
   "cell_type": "code",
   "execution_count": 10,
   "metadata": {},
   "outputs": [
    {
     "data": {
      "text/plain": [
       "'\\ndef round_winner_check(cpu_gesture,player_gesture):\\n    cpu_score = 0\\n    player_score = 0\\n    round_result = f\"{cpu_gesture()},{player_gesture()}\"\\n    if round_result == {\"rock\":\"paper\"} or {\"paper\",\"rock\"} or {\"scissors\",\"paper\"}:\\n        cpu_score += 1\\n        print (\"cpu wins round\")\\n        return 1\\n    elif round_result == {\"paper\",\"scissors\"} or {\"scissors\",\"rock\"} or {\"rock\",\"paper\"}:\\n        player_score += 1\\n        print (\"player wins round\")\\n        return 2\\n    else:\\n        print (\"it\\'s a tie\")\\n        return 0\\n    print(cpu_score,player_score)\\n'"
      ]
     },
     "execution_count": 10,
     "metadata": {},
     "output_type": "execute_result"
    }
   ],
   "source": [
    "\"\"\"\n",
    "def round_winner_check(cpu_gesture,player_gesture):\n",
    "    cpu_score = 0\n",
    "    player_score = 0\n",
    "    round_result = f\"{cpu_gesture()},{player_gesture()}\"\n",
    "    if round_result == {\"rock\":\"paper\"} or {\"paper\",\"rock\"} or {\"scissors\",\"paper\"}:\n",
    "        cpu_score += 1\n",
    "        print (\"cpu wins round\")\n",
    "        return 1\n",
    "    elif round_result == {\"paper\",\"scissors\"} or {\"scissors\",\"rock\"} or {\"rock\",\"paper\"}:\n",
    "        player_score += 1\n",
    "        print (\"player wins round\")\n",
    "        return 2\n",
    "    else:\n",
    "        print (\"it's a tie\")\n",
    "        return 0\n",
    "    print(cpu_score,player_score)\n",
    "\"\"\""
   ]
  },
  {
   "cell_type": "code",
   "execution_count": 11,
   "metadata": {},
   "outputs": [],
   "source": [
    "def round_winner_check2(cpu_gesture,player_gesture):\n",
    "    cpu_score = 0\n",
    "    player_score = 0\n",
    "    player_move = player_gesture(gestures)\n",
    "    cpu_move = cpu_gesture(gestures)\n",
    "    round_result = (cpu_move,player_move)\n",
    "    \n",
    "    if round_result in [(\"rock\",\"paper\"),(\"paper\",\"rock\"),(\"scissors\",\"paper\")]:\n",
    "        cpu_score += 1\n",
    "        print (\"cpu wins round\")\n",
    "        print(round_result)\n",
    "        return 1\n",
    "    elif round_result in [(\"paper\",\"scissors\"),(\"scissors\",\"rock\"),(\"rock\",\"paper\")]:\n",
    "        player_score += 1\n",
    "        \n",
    "        print (\"player wins round\")\n",
    "        print(round_result)\n",
    "        return 2\n",
    "    else:\n",
    "        print (\"it's a tie\")\n",
    "        print(round_result)\n",
    "        return 0"
   ]
  },
  {
   "cell_type": "code",
   "execution_count": 12,
   "metadata": {},
   "outputs": [
    {
     "name": "stdout",
     "output_type": "stream",
     "text": [
      "What's you're move: rock, paper or scissors? Your choice: rOck\n",
      "cpu wins round\n",
      "('paper', 'rock')\n"
     ]
    },
    {
     "data": {
      "text/plain": [
       "1"
      ]
     },
     "execution_count": 12,
     "metadata": {},
     "output_type": "execute_result"
    }
   ],
   "source": [
    "round_winner_check2(cpu_gesture,player_gesture)"
   ]
  },
  {
   "cell_type": "code",
   "execution_count": 25,
   "metadata": {},
   "outputs": [
    {
     "ename": "SyntaxError",
     "evalue": "invalid syntax (<ipython-input-25-4ed152056aad>, line 34)",
     "output_type": "error",
     "traceback": [
      "\u001b[0;36m  File \u001b[0;32m\"<ipython-input-25-4ed152056aad>\"\u001b[0;36m, line \u001b[0;32m34\u001b[0m\n\u001b[0;31m    else:\u001b[0m\n\u001b[0m    ^\u001b[0m\n\u001b[0;31mSyntaxError\u001b[0m\u001b[0;31m:\u001b[0m invalid syntax\n"
     ]
    }
   ],
   "source": [
    "import random\n",
    "import math\n",
    "def playing(n_rounds):\n",
    "    n_rounds = int(input(\"How many rounds? Number of rounds must be an odd number: \"))\n",
    "    \n",
    "    answer = f\"Number of rounds: {n_rounds}\"\n",
    "    return answer if n_rounds % 2 != 0 else playing(n_rounds)\n",
    "    \n",
    "    def round_winner_check2(cpu_gesture,player_gesture):\n",
    "        n_rounds = 9\n",
    "        rounds_to_win = math.ceil(n_rounds/2 )\n",
    "        cpu_score = 0\n",
    "        player_score = 0\n",
    "        player_move = player_gesture(gestures)\n",
    "        cpu_move = cpu_gesture(gestures)\n",
    "        round_result = (cpu_move,player_move)\n",
    "\n",
    "        if round_result in [(\"rock\",\"paper\"),(\"paper\",\"rock\"),(\"scissors\",\"paper\")]:\n",
    "            cpu_score += 1\n",
    "            print (\"cpu wins round\")\n",
    "            return 1\n",
    "\n",
    "        elif round_result in [(\"paper\",\"scissors\"),(\"scissors\",\"rock\"),(\"rock\",\"paper\")]:\n",
    "            player_score += 1 \n",
    "            print (\"player wins round\")\n",
    "            return 2\n",
    "\n",
    "        else:\n",
    "            print (\"it's a tie\")\n",
    "            return 0\n",
    "\n",
    "        while cpu_score or player_score < rounds_to_win < n_rounds:\n",
    "            round_winner_check2(cpu_gesture,player_gesture)\n",
    "            else:\n",
    "                print(cpu_score > player_score)"
   ]
  },
  {
   "cell_type": "code",
   "execution_count": 23,
   "metadata": {},
   "outputs": [
    {
     "name": "stdout",
     "output_type": "stream",
     "text": [
      "How many rounds? Number of rounds must be an odd number: 7\n"
     ]
    },
    {
     "data": {
      "text/plain": [
       "'Number of rounds: 7'"
      ]
     },
     "execution_count": 23,
     "metadata": {},
     "output_type": "execute_result"
    }
   ],
   "source": [
    "playing(n_rounds)"
   ]
  },
  {
   "cell_type": "code",
   "execution_count": 24,
   "metadata": {},
   "outputs": [
    {
     "name": "stdout",
     "output_type": "stream",
     "text": [
      "What's you're move: rock, paper or scissors? Your choice: rOck\n",
      "cpu wins round\n",
      "('paper', 'rock')\n"
     ]
    },
    {
     "data": {
      "text/plain": [
       "1"
      ]
     },
     "execution_count": 24,
     "metadata": {},
     "output_type": "execute_result"
    }
   ],
   "source": [
    "round_winner_check2(cpu_gesture,player_gesture)"
   ]
  },
  {
   "cell_type": "markdown",
   "metadata": {},
   "source": [
    "#### 9. Define a function that prints the choice of the computer, the choice of the player and a message that announces who won the current round. \n",
    "You should also use this function to update the variables that count the number of rounds that the computer and the player have won. The score of the winner increases by one point. If there is a tie, the score does not increase."
   ]
  },
  {
   "cell_type": "code",
   "execution_count": null,
   "metadata": {},
   "outputs": [],
   "source": []
  },
  {
   "cell_type": "markdown",
   "metadata": {},
   "source": [
    "#### 10. Now it's time to code the execution of the game using the functions and variables you defined above. \n",
    "\n",
    "First, create a loop structure that repeats while no player reaches the minimum score necessary to win and the number of rounds is less than the maximum number of rounds to play in a game.  \n",
    "\n",
    "Inside the loop, use the functions and variables above to create the execution of a round: ask for the player's choice, generate the random choice of the computer, show the round results, update the scores, etc. "
   ]
  },
  {
   "cell_type": "code",
   "execution_count": null,
   "metadata": {},
   "outputs": [],
   "source": []
  },
  {
   "cell_type": "markdown",
   "metadata": {},
   "source": [
    "#### 11. Print the winner of the game based on who won more rounds.\n",
    "Remember that the game might be tied. "
   ]
  },
  {
   "cell_type": "code",
   "execution_count": null,
   "metadata": {},
   "outputs": [],
   "source": []
  }
 ],
 "metadata": {
  "kernelspec": {
   "display_name": "Python 3",
   "language": "python",
   "name": "python3"
  },
  "language_info": {
   "codemirror_mode": {
    "name": "ipython",
    "version": 3
   },
   "file_extension": ".py",
   "mimetype": "text/x-python",
   "name": "python",
   "nbconvert_exporter": "python",
   "pygments_lexer": "ipython3",
   "version": "3.8.5"
  },
  "toc": {
   "base_numbering": 1,
   "nav_menu": {},
   "number_sections": false,
   "sideBar": true,
   "skip_h1_title": false,
   "title_cell": "Table of Contents",
   "title_sidebar": "Contents",
   "toc_cell": false,
   "toc_position": {},
   "toc_section_display": true,
   "toc_window_display": false
  },
  "varInspector": {
   "cols": {
    "lenName": 16,
    "lenType": 16,
    "lenVar": 40
   },
   "kernels_config": {
    "python": {
     "delete_cmd_postfix": "",
     "delete_cmd_prefix": "del ",
     "library": "var_list.py",
     "varRefreshCmd": "print(var_dic_list())"
    },
    "r": {
     "delete_cmd_postfix": ") ",
     "delete_cmd_prefix": "rm(",
     "library": "var_list.r",
     "varRefreshCmd": "cat(var_dic_list()) "
    }
   },
   "types_to_exclude": [
    "module",
    "function",
    "builtin_function_or_method",
    "instance",
    "_Feature"
   ],
   "window_display": false
  }
 },
 "nbformat": 4,
 "nbformat_minor": 2
}
